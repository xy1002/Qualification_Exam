{
 "cells": [
  {
   "cell_type": "code",
   "execution_count": 1,
   "metadata": {
    "collapsed": false,
    "deletable": true,
    "editable": true
   },
   "outputs": [
    {
     "name": "stdout",
     "output_type": "stream",
     "text": [
      "Populating the interactive namespace from numpy and matplotlib\n"
     ]
    }
   ],
   "source": [
    "import geopandas as gp\n",
    "import pandas as pd\n",
    "import os\n",
    "#import json\n",
    "#import pylab as pl\n",
    "import zipfile\n",
    "from pandas.tools.plotting import scatter_matrix\n",
    "import statsmodels.api as sm\n",
    "import statsmodels.formula.api as smf\n",
    "import datetime as dt\n",
    "\n",
    "%pylab inline"
   ]
  },
  {
   "cell_type": "markdown",
   "metadata": {
    "deletable": true,
    "editable": true
   },
   "source": [
    "### a) Combining the LL84 (2011) and the Pluto data extract variables that describe locational, structural, functional, and mechanical characteristics of NYC buildings)"
   ]
  },
  {
   "cell_type": "code",
   "execution_count": 2,
   "metadata": {
    "collapsed": false,
    "deletable": true,
    "editable": true
   },
   "outputs": [
    {
     "name": "stdout",
     "output_type": "stream",
     "text": [
      "  % Total    % Received % Xferd  Average Speed   Time    Time     Time  Current\n",
      "                                 Dload  Upload   Total   Spent    Left  Speed\n",
      "100  441k    0  441k    0     0   468k      0 --:--:-- --:--:-- --:--:--  467k\n"
     ]
    }
   ],
   "source": [
    "#download energy data \n",
    "!curl -O 'https://data.cityofnewyork.us/api/views/q39e-7gbs/rows.csv?accessType=DOWNLOAD'"
   ]
  },
  {
   "cell_type": "code",
   "execution_count": 3,
   "metadata": {
    "collapsed": true,
    "deletable": true,
    "editable": true
   },
   "outputs": [],
   "source": [
    "nrg = gp.GeoDataFrame.from_csv('rows.csv?accessType=DOWNLOAD')"
   ]
  },
  {
   "cell_type": "code",
   "execution_count": 4,
   "metadata": {
    "collapsed": false,
    "deletable": true,
    "editable": true
   },
   "outputs": [],
   "source": [
    "#download Bronx pluto data \n",
    "if not os.path.exists('bx'):\n",
    "    os.makedirs('bx') \n",
    "    \n",
    "if not os.path.exists('bx/bx_mappluto_16v2.zip'):\n",
    "    !curl -O 'https://www1.nyc.gov/assets/planning/download/zip/data-maps/open-data/bx_mappluto_16v2.zip'\n",
    "    os.system(\"mv bx_mappluto_16v2.zip bx\")\n",
    "    \n",
    "if not os.path.exists('bx/BXMapPLUTO.shp'):    \n",
    "    zf = zipfile.ZipFile('bx/' + 'bx_mappluto_16v2.zip')\n",
    "    zf.extractall(\"bx\")\n",
    "    zf.close\n"
   ]
  },
  {
   "cell_type": "code",
   "execution_count": 5,
   "metadata": {
    "collapsed": false,
    "deletable": true,
    "editable": true
   },
   "outputs": [],
   "source": [
    "#download Brooklyn pluto data \n",
    "if not os.path.exists('bk'):\n",
    "    os.makedirs('bk') \n",
    "    \n",
    "if not os.path.exists('bk/bk_mappluto_16v2.zip'):\n",
    "    !curl -O 'https://www1.nyc.gov/assets/planning/download/zip/data-maps/open-data/bk_mappluto_16v2.zip'\n",
    "    os.system(\"mv bk_mappluto_16v2.zip bk\")\n",
    "    \n",
    "if not os.path.exists('bk/BKMapPLUTO.shp'):    \n",
    "    zf = zipfile.ZipFile('bk/' + 'bk_mappluto_16v2.zip')\n",
    "    zf.extractall(\"bk\")\n",
    "    zf.close"
   ]
  },
  {
   "cell_type": "code",
   "execution_count": 6,
   "metadata": {
    "collapsed": false,
    "deletable": true,
    "editable": true
   },
   "outputs": [],
   "source": [
    "#download Manhattan pluto data \n",
    "if not os.path.exists('mn'):\n",
    "    os.makedirs('mn') \n",
    "    \n",
    "if not os.path.exists('mn/mn_mappluto_16v2.zip'):\n",
    "    !curl -O 'https://www1.nyc.gov/assets/planning/download/zip/data-maps/open-data/mn_mappluto_16v2.zip'\n",
    "    os.system(\"mv mn_mappluto_16v2.zip mn\")\n",
    "    \n",
    "if not os.path.exists('mn/MNMapPLUTO.shp'):    \n",
    "    zf = zipfile.ZipFile('mn/' + 'mn_mappluto_16v2.zip')\n",
    "    zf.extractall(\"mn\")\n",
    "    zf.close"
   ]
  },
  {
   "cell_type": "code",
   "execution_count": 7,
   "metadata": {
    "collapsed": false,
    "deletable": true,
    "editable": true
   },
   "outputs": [],
   "source": [
    "#download Queens pluto data \n",
    "if not os.path.exists('qn'):\n",
    "    os.makedirs('qn') \n",
    "    \n",
    "if not os.path.exists('qn/qn_mappluto_16v2.zip'):\n",
    "    !curl -O 'https://www1.nyc.gov/assets/planning/download/zip/data-maps/open-data/qn_mappluto_16v2.zip'\n",
    "    os.system(\"mv qn_mappluto_16v2.zip qn\")\n",
    "    \n",
    "if not os.path.exists('qn/BKMapPLUTO.shp'):    \n",
    "    zf = zipfile.ZipFile('qn/' + 'qn_mappluto_16v2.zip')\n",
    "    zf.extractall(\"qn\")\n",
    "    zf.close"
   ]
  },
  {
   "cell_type": "code",
   "execution_count": 8,
   "metadata": {
    "collapsed": false,
    "deletable": true,
    "editable": true
   },
   "outputs": [],
   "source": [
    "#download Staten Island pluto data \n",
    "if not os.path.exists('si'):\n",
    "    os.makedirs('si') \n",
    "    \n",
    "if not os.path.exists('si/si_mappluto_16v2.zip'):\n",
    "    !curl -O 'https://www1.nyc.gov/assets/planning/download/zip/data-maps/open-data/si_mappluto_16v2.zip'\n",
    "    os.system(\"mv si_mappluto_16v2.zip si\")\n",
    "    \n",
    "if not os.path.exists('si/BKMapPLUTO.shp'):    \n",
    "    zf = zipfile.ZipFile('si/' + 'si_mappluto_16v2.zip')\n",
    "    zf.extractall(\"si\")\n",
    "    zf.close"
   ]
  },
  {
   "cell_type": "code",
   "execution_count": 9,
   "metadata": {
    "collapsed": false,
    "deletable": true,
    "editable": true
   },
   "outputs": [],
   "source": [
    "#read in files\n",
    "P_bx = gp.read_file('bx/BXMapPLUTO.shp')\n",
    "P_bk = gp.read_file('bk/BKMapPLUTO.shp')\n",
    "P_mn = gp.read_file('mn/MNMapPLUTO.shp')\n",
    "P_qn = gp.read_file('qn/QNMapPLUTO.shp')\n",
    "P_si = gp.read_file('si/SIMapPLUTO.shp')"
   ]
  },
  {
   "cell_type": "code",
   "execution_count": 10,
   "metadata": {
    "collapsed": false,
    "deletable": true,
    "editable": true
   },
   "outputs": [
    {
     "data": {
      "text/plain": [
       "Index([    u'APPBBL',    u'APPDate',    u'Address', u'AreaSource',\n",
       "       u'AssessLand',  u'AssessTot',        u'BBL',   u'BldgArea',\n",
       "        u'BldgClass',  u'BldgDepth',  u'BldgFront',      u'Block',\n",
       "         u'BoroCode',    u'Borough',   u'BsmtCode',   u'BuiltFAR',\n",
       "           u'CB2010',         u'CD',     u'CT2010',    u'ComArea',\n",
       "          u'CommFAR',    u'CondoNo',    u'Council',  u'EDesigNum',\n",
       "        u'Easements', u'ExemptLand',  u'ExemptTot',        u'Ext',\n",
       "         u'FacilFAR', u'FactryArea',   u'FireComp', u'GarageArea',\n",
       "       u'HealthArea',   u'HistDist', u'IrrLotCode',    u'LandUse',\n",
       "         u'Landmark',        u'Lot',    u'LotArea',   u'LotDepth',\n",
       "         u'LotFront',    u'LotType',  u'LtdHeight', u'MAPPLUTO_F',\n",
       "         u'NumBldgs',  u'NumFloors', u'OfficeArea',  u'OtherArea',\n",
       "         u'Overlay1',   u'Overlay2',  u'OwnerName',  u'OwnerType',\n",
       "       u'PLUTOMapID', u'PolicePrct',   u'ProxCode',    u'ResArea',\n",
       "         u'ResidFAR', u'RetailArea', u'SHAPE_Area', u'SHAPE_Leng',\n",
       "          u'SPDist1',    u'SPDist2',    u'SPDist3',    u'Sanborn',\n",
       "        u'SanitBoro', u'SanitDistr',   u'SanitSub', u'SchoolDist',\n",
       "        u'SplitZone',  u'StrgeArea',     u'TaxMap',  u'Tract2010',\n",
       "         u'UnitsRes', u'UnitsTotal',    u'Version',     u'XCoord',\n",
       "           u'YCoord', u'YearAlter1', u'YearAlter2',  u'YearBuilt',\n",
       "           u'ZMCode',    u'ZipCode',  u'ZoneDist1',  u'ZoneDist2',\n",
       "        u'ZoneDist3',  u'ZoneDist4',    u'ZoneMap',   u'geometry'],\n",
       "      dtype='object')"
      ]
     },
     "execution_count": 10,
     "metadata": {},
     "output_type": "execute_result"
    }
   ],
   "source": [
    "#Columns\n",
    "P_bx.columns"
   ]
  },
  {
   "cell_type": "code",
   "execution_count": 11,
   "metadata": {
    "collapsed": false,
    "deletable": true,
    "editable": true
   },
   "outputs": [],
   "source": [
    "nrg['BBL'] = nrg.index"
   ]
  },
  {
   "cell_type": "code",
   "execution_count": 12,
   "metadata": {
    "collapsed": false,
    "deletable": true,
    "editable": true
   },
   "outputs": [
    {
     "data": {
      "text/plain": [
       "Index([u'Street Number', u'Street Name', u'Borough', u'Zip',\n",
       "       u'Benchmarking Submission', u'Entry Number', u'Site EUI',\n",
       "       u'Weather Normalized Source EUI', u'Water per Square Foot',\n",
       "       u'ENERGY STAR Score', u'GHG', u'Reported Building Square Footage',\n",
       "       u'Reported Facility Type', u'Number of Buildings', u'Reported BINs',\n",
       "       u'BBL'],\n",
       "      dtype='object')"
      ]
     },
     "execution_count": 12,
     "metadata": {},
     "output_type": "execute_result"
    }
   ],
   "source": [
    "nrg.columns"
   ]
  },
  {
   "cell_type": "code",
   "execution_count": 13,
   "metadata": {
    "collapsed": false,
    "deletable": true,
    "editable": true
   },
   "outputs": [
    {
     "name": "stderr",
     "output_type": "stream",
     "text": [
      "/usr/local/lib/python2.7/site-packages/pandas/core/frame.py:2834: SettingWithCopyWarning: \n",
      "A value is trying to be set on a copy of a slice from a DataFrame\n",
      "\n",
      "See the caveats in the documentation: http://pandas.pydata.org/pandas-docs/stable/indexing.html#indexing-view-versus-copy\n",
      "  **kwargs)\n"
     ]
    },
    {
     "data": {
      "text/html": [
       "<div>\n",
       "<table border=\"1\" class=\"dataframe\">\n",
       "  <thead>\n",
       "    <tr style=\"text-align: right;\">\n",
       "      <th></th>\n",
       "      <th>BBL</th>\n",
       "      <th>GHG</th>\n",
       "      <th>Site_EUI</th>\n",
       "    </tr>\n",
       "    <tr>\n",
       "      <th>BBL</th>\n",
       "      <th></th>\n",
       "      <th></th>\n",
       "      <th></th>\n",
       "    </tr>\n",
       "  </thead>\n",
       "  <tbody>\n",
       "    <tr>\n",
       "      <th>1000050010</th>\n",
       "      <td>1000050010</td>\n",
       "      <td>NaN</td>\n",
       "      <td>NaN</td>\n",
       "    </tr>\n",
       "    <tr>\n",
       "      <th>1000090001</th>\n",
       "      <td>1000090001</td>\n",
       "      <td>12077.53</td>\n",
       "      <td>157.9</td>\n",
       "    </tr>\n",
       "    <tr>\n",
       "      <th>1000090014</th>\n",
       "      <td>1000090014</td>\n",
       "      <td>4817.62</td>\n",
       "      <td>91.5</td>\n",
       "    </tr>\n",
       "    <tr>\n",
       "      <th>1000090029</th>\n",
       "      <td>1000090029</td>\n",
       "      <td>10190.38</td>\n",
       "      <td>137.2</td>\n",
       "    </tr>\n",
       "    <tr>\n",
       "      <th>1000100014</th>\n",
       "      <td>1000100014</td>\n",
       "      <td>NaN</td>\n",
       "      <td>NaN</td>\n",
       "    </tr>\n",
       "  </tbody>\n",
       "</table>\n",
       "</div>"
      ],
      "text/plain": [
       "                   BBL       GHG  Site_EUI\n",
       "BBL                                       \n",
       "1000050010  1000050010       NaN       NaN\n",
       "1000090001  1000090001  12077.53     157.9\n",
       "1000090014  1000090014   4817.62      91.5\n",
       "1000090029  1000090029  10190.38     137.2\n",
       "1000100014  1000100014       NaN       NaN"
      ]
     },
     "execution_count": 13,
     "metadata": {},
     "output_type": "execute_result"
    }
   ],
   "source": [
    "nrg_1 = nrg[['BBL', 'GHG', 'Site EUI']]\n",
    "nrg_1.rename(columns={'Site EUI':'Site_EUI'}, \n",
    "           inplace=True)\n",
    "nrg_1.head()"
   ]
  },
  {
   "cell_type": "code",
   "execution_count": 14,
   "metadata": {
    "collapsed": true,
    "deletable": true,
    "editable": true
   },
   "outputs": [],
   "source": [
    "#Extract characteristics from Pluto\n",
    "C_bx = P_bx[['BBL', 'ZipCode', 'BldgArea', 'YearBuilt', 'LandUse']]\n",
    "C_bk = P_bk[['BBL', 'ZipCode', 'BldgArea', 'YearBuilt', 'LandUse']]\n",
    "C_mn = P_mn[['BBL', 'ZipCode', 'BldgArea', 'YearBuilt', 'LandUse']]\n",
    "C_qn = P_qn[['BBL', 'ZipCode', 'BldgArea', 'YearBuilt', 'LandUse']]\n",
    "C_si = P_si[['BBL', 'ZipCode', 'BldgArea', 'YearBuilt', 'LandUse']]\n"
   ]
  },
  {
   "cell_type": "code",
   "execution_count": 15,
   "metadata": {
    "collapsed": true,
    "deletable": true,
    "editable": true
   },
   "outputs": [],
   "source": [
    "# Combine pluto files\n",
    "Char_b = C_bx.append(C_bk)\n",
    "Char_b = Char_b.append(C_mn)\n",
    "Char_b = Char_b.append(C_qn)\n",
    "Char_b = Char_b.append(C_si)"
   ]
  },
  {
   "cell_type": "code",
   "execution_count": 16,
   "metadata": {
    "collapsed": false,
    "deletable": true,
    "editable": true
   },
   "outputs": [
    {
     "name": "stdout",
     "output_type": "stream",
     "text": [
      "True\n"
     ]
    }
   ],
   "source": [
    "print(len(C_bx) + len(C_bk) + len(C_mn) + len(C_qn) + len(C_si) == len(Char_b))"
   ]
  },
  {
   "cell_type": "code",
   "execution_count": 17,
   "metadata": {
    "collapsed": true,
    "deletable": true,
    "editable": true
   },
   "outputs": [],
   "source": [
    "# Merge\n",
    "#bblnrgdata = pd.merge(nrg_1, Char_b, how='inner', on=['BBL'])\n",
    "bblnrgdata = Char_b.merge(nrg_1, on='BBL')"
   ]
  },
  {
   "cell_type": "code",
   "execution_count": 18,
   "metadata": {
    "collapsed": false,
    "deletable": true,
    "editable": true
   },
   "outputs": [
    {
     "data": {
      "text/html": [
       "<div>\n",
       "<table border=\"1\" class=\"dataframe\">\n",
       "  <thead>\n",
       "    <tr style=\"text-align: right;\">\n",
       "      <th></th>\n",
       "      <th>BBL</th>\n",
       "      <th>ZipCode</th>\n",
       "      <th>BldgArea</th>\n",
       "      <th>YearBuilt</th>\n",
       "      <th>LandUse</th>\n",
       "      <th>GHG</th>\n",
       "      <th>Site_EUI</th>\n",
       "    </tr>\n",
       "  </thead>\n",
       "  <tbody>\n",
       "    <tr>\n",
       "      <th>0</th>\n",
       "      <td>2.023190e+09</td>\n",
       "      <td>10451</td>\n",
       "      <td>214560</td>\n",
       "      <td>2000</td>\n",
       "      <td>06</td>\n",
       "      <td>NaN</td>\n",
       "      <td>NaN</td>\n",
       "    </tr>\n",
       "    <tr>\n",
       "      <th>1</th>\n",
       "      <td>2.023080e+09</td>\n",
       "      <td>10454</td>\n",
       "      <td>181500</td>\n",
       "      <td>1931</td>\n",
       "      <td>06</td>\n",
       "      <td>NaN</td>\n",
       "      <td>NaN</td>\n",
       "    </tr>\n",
       "    <tr>\n",
       "      <th>2</th>\n",
       "      <td>2.023160e+09</td>\n",
       "      <td>10454</td>\n",
       "      <td>83064</td>\n",
       "      <td>1966</td>\n",
       "      <td>10</td>\n",
       "      <td>NaN</td>\n",
       "      <td>NaN</td>\n",
       "    </tr>\n",
       "    <tr>\n",
       "      <th>3</th>\n",
       "      <td>2.022950e+09</td>\n",
       "      <td>10454</td>\n",
       "      <td>54756</td>\n",
       "      <td>1931</td>\n",
       "      <td>06</td>\n",
       "      <td>NaN</td>\n",
       "      <td>NaN</td>\n",
       "    </tr>\n",
       "    <tr>\n",
       "      <th>4</th>\n",
       "      <td>2.023190e+09</td>\n",
       "      <td>10451</td>\n",
       "      <td>154380</td>\n",
       "      <td>1928</td>\n",
       "      <td>06</td>\n",
       "      <td>392.86</td>\n",
       "      <td>31.2</td>\n",
       "    </tr>\n",
       "  </tbody>\n",
       "</table>\n",
       "</div>"
      ],
      "text/plain": [
       "            BBL  ZipCode  BldgArea  YearBuilt LandUse     GHG  Site_EUI\n",
       "0  2.023190e+09    10451    214560       2000      06     NaN       NaN\n",
       "1  2.023080e+09    10454    181500       1931      06     NaN       NaN\n",
       "2  2.023160e+09    10454     83064       1966      10     NaN       NaN\n",
       "3  2.022950e+09    10454     54756       1931      06     NaN       NaN\n",
       "4  2.023190e+09    10451    154380       1928      06  392.86      31.2"
      ]
     },
     "execution_count": 18,
     "metadata": {},
     "output_type": "execute_result"
    }
   ],
   "source": [
    "bblnrgdata.head()"
   ]
  },
  {
   "cell_type": "code",
   "execution_count": 19,
   "metadata": {
    "collapsed": false,
    "deletable": true,
    "editable": true
   },
   "outputs": [],
   "source": [
    "bblnrgdata['BBL'] = pd.to_numeric(bblnrgdata['BBL'], errors = 'coerce')\n",
    "bblnrgdata['GHG'] = pd.to_numeric(bblnrgdata['GHG'], errors = 'coerce')\n",
    "bblnrgdata['Site_EUI'] = pd.to_numeric(bblnrgdata['Site_EUI'], errors = 'coerce')\n",
    "bblnrgdata['ZipCode'] = pd.to_numeric(bblnrgdata['ZipCode'], errors = 'coerce')\n",
    "bblnrgdata['BldgArea'] = pd.to_numeric(bblnrgdata['BldgArea'], errors = 'coerce')\n",
    "#bblnrgdata['YearBuilt'] = pd.to_numeric(bblnrgdata['YearBuilt'], errors = 'coerce')\n",
    "bblnrgdata['LandUse'] = pd.to_numeric(bblnrgdata['LandUse'], errors = 'coerce')\n"
   ]
  },
  {
   "cell_type": "code",
   "execution_count": 20,
   "metadata": {
    "collapsed": false,
    "deletable": true,
    "editable": true
   },
   "outputs": [],
   "source": [
    "#Get rid of the outliers like YearBuilt is 0 and Zipcode eqauls 0.\n",
    "bblnrgdataCut = bblnrgdata[(bblnrgdata.Site_EUI > 1000) & (bblnrgdata.YearBuilt > 0) & \n",
    "                           (bblnrgdata.ZipCode > 0) & (bblnrgdata.GHG > 100) &\n",
    "                          (bblnrgdata.BldgArea > 100)]\n",
    "\n"
   ]
  },
  {
   "cell_type": "code",
   "execution_count": 21,
   "metadata": {
    "collapsed": false,
    "deletable": true,
    "editable": true
   },
   "outputs": [
    {
     "name": "stderr",
     "output_type": "stream",
     "text": [
      "/usr/local/lib/python2.7/site-packages/ipykernel/__main__.py:1: SettingWithCopyWarning: \n",
      "A value is trying to be set on a copy of a slice from a DataFrame.\n",
      "Try using .loc[row_indexer,col_indexer] = value instead\n",
      "\n",
      "See the caveats in the documentation: http://pandas.pydata.org/pandas-docs/stable/indexing.html#indexing-view-versus-copy\n",
      "  if __name__ == '__main__':\n",
      "/usr/local/lib/python2.7/site-packages/ipykernel/__main__.py:2: SettingWithCopyWarning: \n",
      "A value is trying to be set on a copy of a slice from a DataFrame\n",
      "\n",
      "See the caveats in the documentation: http://pandas.pydata.org/pandas-docs/stable/indexing.html#indexing-view-versus-copy\n",
      "  from ipykernel import kernelapp as app\n"
     ]
    }
   ],
   "source": [
    "bblnrgdataCut['BldgAge'] = 2017 - bblnrgdataCut['YearBuilt']\n",
    "bblnrgdataCut.drop(['YearBuilt'], axis = 1, inplace = True)"
   ]
  },
  {
   "cell_type": "code",
   "execution_count": 22,
   "metadata": {
    "collapsed": false,
    "deletable": true,
    "editable": true,
    "scrolled": false
   },
   "outputs": [
    {
     "data": {
      "text/plain": [
       "array([[<matplotlib.axes._subplots.AxesSubplot object at 0x1787e9990>,\n",
       "        <matplotlib.axes._subplots.AxesSubplot object at 0x14cfc3610>,\n",
       "        <matplotlib.axes._subplots.AxesSubplot object at 0x167615910>,\n",
       "        <matplotlib.axes._subplots.AxesSubplot object at 0x14fe2ac50>,\n",
       "        <matplotlib.axes._subplots.AxesSubplot object at 0x16dfbcc90>,\n",
       "        <matplotlib.axes._subplots.AxesSubplot object at 0x19ec7ac10>,\n",
       "        <matplotlib.axes._subplots.AxesSubplot object at 0x14465bc50>],\n",
       "       [<matplotlib.axes._subplots.AxesSubplot object at 0x15ae5f510>,\n",
       "        <matplotlib.axes._subplots.AxesSubplot object at 0x1800cb6d0>,\n",
       "        <matplotlib.axes._subplots.AxesSubplot object at 0x15a457090>,\n",
       "        <matplotlib.axes._subplots.AxesSubplot object at 0x14d5fd350>,\n",
       "        <matplotlib.axes._subplots.AxesSubplot object at 0x172985810>,\n",
       "        <matplotlib.axes._subplots.AxesSubplot object at 0x175aa3150>,\n",
       "        <matplotlib.axes._subplots.AxesSubplot object at 0x176f20f50>],\n",
       "       [<matplotlib.axes._subplots.AxesSubplot object at 0x180ae9350>,\n",
       "        <matplotlib.axes._subplots.AxesSubplot object at 0x188c4a390>,\n",
       "        <matplotlib.axes._subplots.AxesSubplot object at 0x18f6c9310>,\n",
       "        <matplotlib.axes._subplots.AxesSubplot object at 0x1976a3350>,\n",
       "        <matplotlib.axes._subplots.AxesSubplot object at 0x19ef74bd0>,\n",
       "        <matplotlib.axes._subplots.AxesSubplot object at 0x1a5799d90>,\n",
       "        <matplotlib.axes._subplots.AxesSubplot object at 0x159bd9750>],\n",
       "       [<matplotlib.axes._subplots.AxesSubplot object at 0x161296a10>,\n",
       "        <matplotlib.axes._subplots.AxesSubplot object at 0x159e0fa90>,\n",
       "        <matplotlib.axes._subplots.AxesSubplot object at 0x16c492710>,\n",
       "        <matplotlib.axes._subplots.AxesSubplot object at 0x16db09310>,\n",
       "        <matplotlib.axes._subplots.AxesSubplot object at 0x184d75290>,\n",
       "        <matplotlib.axes._subplots.AxesSubplot object at 0x1929ee110>,\n",
       "        <matplotlib.axes._subplots.AxesSubplot object at 0x1683ecb90>],\n",
       "       [<matplotlib.axes._subplots.AxesSubplot object at 0x1ab2e9ad0>,\n",
       "        <matplotlib.axes._subplots.AxesSubplot object at 0x1b090f550>,\n",
       "        <matplotlib.axes._subplots.AxesSubplot object at 0x1b1a21650>,\n",
       "        <matplotlib.axes._subplots.AxesSubplot object at 0x1b2f2afd0>,\n",
       "        <matplotlib.axes._subplots.AxesSubplot object at 0x1b742c110>,\n",
       "        <matplotlib.axes._subplots.AxesSubplot object at 0x1b879ab50>,\n",
       "        <matplotlib.axes._subplots.AxesSubplot object at 0x1c30fded0>],\n",
       "       [<matplotlib.axes._subplots.AxesSubplot object at 0x1c258f7d0>,\n",
       "        <matplotlib.axes._subplots.AxesSubplot object at 0x1c61d0c10>,\n",
       "        <matplotlib.axes._subplots.AxesSubplot object at 0x1cbcc8a90>,\n",
       "        <matplotlib.axes._subplots.AxesSubplot object at 0x1cef7b790>,\n",
       "        <matplotlib.axes._subplots.AxesSubplot object at 0x1d1072610>,\n",
       "        <matplotlib.axes._subplots.AxesSubplot object at 0x1d1b0ee90>,\n",
       "        <matplotlib.axes._subplots.AxesSubplot object at 0x1d47f0ed0>],\n",
       "       [<matplotlib.axes._subplots.AxesSubplot object at 0x1d9f095d0>,\n",
       "        <matplotlib.axes._subplots.AxesSubplot object at 0x1ddf16790>,\n",
       "        <matplotlib.axes._subplots.AxesSubplot object at 0x1e9531150>,\n",
       "        <matplotlib.axes._subplots.AxesSubplot object at 0x1ef01c410>,\n",
       "        <matplotlib.axes._subplots.AxesSubplot object at 0x1e9eac990>,\n",
       "        <matplotlib.axes._subplots.AxesSubplot object at 0x1edc6f110>,\n",
       "        <matplotlib.axes._subplots.AxesSubplot object at 0x1ee1590d0>]], dtype=object)"
      ]
     },
     "execution_count": 22,
     "metadata": {},
     "output_type": "execute_result"
    },
    {
     "data": {
      "image/png": "[encoded data removed]",
      "text/plain": [
       "<matplotlib.figure.Figure at 0x17e1960d0>"
      ]
     },
     "metadata": {},
     "output_type": "display_data"
    }
   ],
   "source": [
    "scatter_matrix (bblnrgdataCut, s=30, figsize=(16, 16))\n"
   ]
  },
  {
   "cell_type": "code",
   "execution_count": 23,
   "metadata": {
    "collapsed": false,
    "deletable": true,
    "editable": true
   },
   "outputs": [
    {
     "data": {
      "text/html": [
       "<table class=\"simpletable\">\n",
       "<caption>OLS Regression Results</caption>\n",
       "<tr>\n",
       "  <th>Dep. Variable:</th>        <td>Site_EUI</td>     <th>  R-squared:         </th> <td>   0.566</td>\n",
       "</tr>\n",
       "<tr>\n",
       "  <th>Model:</th>                   <td>OLS</td>       <th>  Adj. R-squared:    </th> <td>   0.476</td>\n",
       "</tr>\n",
       "<tr>\n",
       "  <th>Method:</th>             <td>Least Squares</td>  <th>  F-statistic:       </th> <td>   6.261</td>\n",
       "</tr>\n",
       "<tr>\n",
       "  <th>Date:</th>             <td>Mon, 27 Mar 2017</td> <th>  Prob (F-statistic):</th> <td>0.000751</td>\n",
       "</tr>\n",
       "<tr>\n",
       "  <th>Time:</th>                 <td>17:53:32</td>     <th>  Log-Likelihood:    </th> <td> -352.54</td>\n",
       "</tr>\n",
       "<tr>\n",
       "  <th>No. Observations:</th>      <td>    30</td>      <th>  AIC:               </th> <td>   717.1</td>\n",
       "</tr>\n",
       "<tr>\n",
       "  <th>Df Residuals:</th>          <td>    24</td>      <th>  BIC:               </th> <td>   725.5</td>\n",
       "</tr>\n",
       "<tr>\n",
       "  <th>Df Model:</th>              <td>     5</td>      <th>                     </th>     <td> </td>   \n",
       "</tr>\n",
       "<tr>\n",
       "  <th>Covariance Type:</th>      <td>nonrobust</td>    <th>                     </th>     <td> </td>   \n",
       "</tr>\n",
       "</table>\n",
       "<table class=\"simpletable\">\n",
       "<tr>\n",
       "      <td></td>         <th>coef</th>     <th>std err</th>      <th>t</th>      <th>P>|t|</th>  <th>[0.025</th>    <th>0.975]</th>  \n",
       "</tr>\n",
       "<tr>\n",
       "  <th>Intercept</th> <td> 2.039e+05</td> <td> 2.23e+05</td> <td>    0.912</td> <td> 0.371</td> <td>-2.57e+05</td> <td> 6.65e+05</td>\n",
       "</tr>\n",
       "<tr>\n",
       "  <th>GHG</th>       <td>    0.0189</td> <td>    0.004</td> <td>    4.630</td> <td> 0.000</td> <td>    0.010</td> <td>    0.027</td>\n",
       "</tr>\n",
       "<tr>\n",
       "  <th>ZipCode</th>   <td>  -16.9336</td> <td>   18.718</td> <td>   -0.905</td> <td> 0.375</td> <td>  -55.565</td> <td>   21.697</td>\n",
       "</tr>\n",
       "<tr>\n",
       "  <th>BldgArea</th>  <td>   -0.0217</td> <td>    0.013</td> <td>   -1.733</td> <td> 0.096</td> <td>   -0.047</td> <td>    0.004</td>\n",
       "</tr>\n",
       "<tr>\n",
       "  <th>BldgAge</th>   <td> -240.3613</td> <td>  328.519</td> <td>   -0.732</td> <td> 0.471</td> <td> -918.391</td> <td>  437.669</td>\n",
       "</tr>\n",
       "<tr>\n",
       "  <th>LandUse</th>   <td> 3144.5511</td> <td> 6340.701</td> <td>    0.496</td> <td> 0.624</td> <td>-9942.013</td> <td> 1.62e+04</td>\n",
       "</tr>\n",
       "</table>\n",
       "<table class=\"simpletable\">\n",
       "<tr>\n",
       "  <th>Omnibus:</th>       <td>16.223</td> <th>  Durbin-Watson:     </th> <td>   1.933</td>\n",
       "</tr>\n",
       "<tr>\n",
       "  <th>Prob(Omnibus):</th> <td> 0.000</td> <th>  Jarque-Bera (JB):  </th> <td>  18.128</td>\n",
       "</tr>\n",
       "<tr>\n",
       "  <th>Skew:</th>          <td> 1.499</td> <th>  Prob(JB):          </th> <td>0.000116</td>\n",
       "</tr>\n",
       "<tr>\n",
       "  <th>Kurtosis:</th>      <td> 5.347</td> <th>  Cond. No.          </th> <td>6.61e+07</td>\n",
       "</tr>\n",
       "</table>"
      ],
      "text/plain": [
       "<class 'statsmodels.iolib.summary.Summary'>\n",
       "\"\"\"\n",
       "                            OLS Regression Results                            \n",
       "==============================================================================\n",
       "Dep. Variable:               Site_EUI   R-squared:                       0.566\n",
       "Model:                            OLS   Adj. R-squared:                  0.476\n",
       "Method:                 Least Squares   F-statistic:                     6.261\n",
       "Date:                Mon, 27 Mar 2017   Prob (F-statistic):           0.000751\n",
       "Time:                        17:53:32   Log-Likelihood:                -352.54\n",
       "No. Observations:                  30   AIC:                             717.1\n",
       "Df Residuals:                      24   BIC:                             725.5\n",
       "Df Model:                           5                                         \n",
       "Covariance Type:            nonrobust                                         \n",
       "==============================================================================\n",
       "                 coef    std err          t      P>|t|      [0.025      0.975]\n",
       "------------------------------------------------------------------------------\n",
       "Intercept   2.039e+05   2.23e+05      0.912      0.371   -2.57e+05    6.65e+05\n",
       "GHG            0.0189      0.004      4.630      0.000       0.010       0.027\n",
       "ZipCode      -16.9336     18.718     -0.905      0.375     -55.565      21.697\n",
       "BldgArea      -0.0217      0.013     -1.733      0.096      -0.047       0.004\n",
       "BldgAge     -240.3613    328.519     -0.732      0.471    -918.391     437.669\n",
       "LandUse     3144.5511   6340.701      0.496      0.624   -9942.013    1.62e+04\n",
       "==============================================================================\n",
       "Omnibus:                       16.223   Durbin-Watson:                   1.933\n",
       "Prob(Omnibus):                  0.000   Jarque-Bera (JB):               18.128\n",
       "Skew:                           1.499   Prob(JB):                     0.000116\n",
       "Kurtosis:                       5.347   Cond. No.                     6.61e+07\n",
       "==============================================================================\n",
       "\n",
       "Warnings:\n",
       "[1] Standard Errors assume that the covariance matrix of the errors is correctly specified.\n",
       "[2] The condition number is large, 6.61e+07. This might indicate that there are\n",
       "strong multicollinearity or other numerical problems.\n",
       "\"\"\""
      ]
     },
     "execution_count": 23,
     "metadata": {},
     "output_type": "execute_result"
    }
   ],
   "source": [
    "lm = smf.ols(formula='Site_EUI ~ GHG + ZipCode + BldgArea + \\\n",
    "BldgAge + LandUse', data = bblnrgdataCut, missing='drop').fit()\n",
    "lm.summary()"
   ]
  },
  {
   "cell_type": "code",
   "execution_count": null,
   "metadata": {
    "collapsed": true
   },
   "outputs": [],
   "source": []
  }
 ],
 "metadata": {
  "kernelspec": {
   "display_name": "Python 2",
   "language": "python",
   "name": "python2"
  },
  "language_info": {
   "codemirror_mode": {
    "name": "ipython",
    "version": 2
   },
   "file_extension": ".py",
   "mimetype": "text/x-python",
   "name": "python",
   "nbconvert_exporter": "python",
   "pygments_lexer": "ipython2",
   "version": "2.7.13"
  }
 },
 "nbformat": 4,
 "nbformat_minor": 2
}
