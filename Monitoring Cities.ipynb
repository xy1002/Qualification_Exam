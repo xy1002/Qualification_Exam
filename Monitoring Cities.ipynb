{
 "cells": [
  {
   "cell_type": "code",
   "execution_count": 1,
   "metadata": {
    "collapsed": false,
    "deletable": true,
    "editable": true
   },
   "outputs": [
    {
     "name": "stdout",
     "output_type": "stream",
     "text": [
      "Populating the interactive namespace from numpy and matplotlib\n"
     ]
    }
   ],
   "source": [
    "import geopandas as gp\n",
    "import pandas as pd\n",
    "import os\n",
    "#import json\n",
    "#import pylab as pl\n",
    "import zipfile\n",
    "from pandas.tools.plotting import scatter_matrix\n",
    "import statsmodels.api as sm\n",
    "import statsmodels.formula.api as smf\n",
    "import datetime as dt\n",
    "\n",
    "%pylab inline"
   ]
  },
  {
   "cell_type": "code",
   "execution_count": 15,
   "metadata": {
    "collapsed": false,
    "deletable": true,
    "editable": true
   },
   "outputs": [
    {
     "name": "stdout",
     "output_type": "stream",
     "text": [
      "  % Total    % Received % Xferd  Average Speed   Time    Time     Time  Current\n",
      "                                 Dload  Upload   Total   Spent    Left  Speed\n",
      "100 2865k    0 2865k    0     0  1290k      0 --:--:--  0:00:02 --:--:-- 1290k\n"
     ]
    }
   ],
   "source": [
    "#download energy data \n",
    "!curl -O 'https://data.cityofnewyork.us/api/views/jzst-u7j8/rows.csv?accessType=DOWNLOAD'"
   ]
  },
  {
   "cell_type": "code",
   "execution_count": 16,
   "metadata": {
    "collapsed": false,
    "deletable": true,
    "editable": true
   },
   "outputs": [
    {
     "data": {
      "text/html": [
       "<div>\n",
       "<table border=\"1\" class=\"dataframe\">\n",
       "  <thead>\n",
       "    <tr style=\"text-align: right;\">\n",
       "      <th></th>\n",
       "      <th>NYC Borough, Block, and Lot (BBL)</th>\n",
       "      <th>Co-reported BBL Status</th>\n",
       "      <th>BBLs Co-reported</th>\n",
       "      <th>Reported NYC Building Identification Numbers (BINs)</th>\n",
       "      <th>Street Number</th>\n",
       "      <th>Street Name</th>\n",
       "      <th>Borough</th>\n",
       "      <th>Zip Code</th>\n",
       "      <th>BBL on the Covered Buildings List</th>\n",
       "      <th>DOF Benchmarking Submission Status</th>\n",
       "      <th>...</th>\n",
       "      <th>Automatic Water Benchmarking Eligible</th>\n",
       "      <th>Reported Water Method</th>\n",
       "      <th>ENERGY STAR Score</th>\n",
       "      <th>Total GHG Emissions(MtCO2e)</th>\n",
       "      <th>Direct GHG Emissions(MtCO2e)</th>\n",
       "      <th>Indirect GHG Emissions(MtCO2e)</th>\n",
       "      <th>Reported Property Floor Area (Building(s)) (ft²)</th>\n",
       "      <th>DOF Property Floor Area (Buildngs and Parking)(ft2)</th>\n",
       "      <th>Primary Property Type - Self Selected</th>\n",
       "      <th>DOF Number of Buildings</th>\n",
       "    </tr>\n",
       "    <tr>\n",
       "      <th>Record Number</th>\n",
       "      <th></th>\n",
       "      <th></th>\n",
       "      <th></th>\n",
       "      <th></th>\n",
       "      <th></th>\n",
       "      <th></th>\n",
       "      <th></th>\n",
       "      <th></th>\n",
       "      <th></th>\n",
       "      <th></th>\n",
       "      <th></th>\n",
       "      <th></th>\n",
       "      <th></th>\n",
       "      <th></th>\n",
       "      <th></th>\n",
       "      <th></th>\n",
       "      <th></th>\n",
       "      <th></th>\n",
       "      <th></th>\n",
       "      <th></th>\n",
       "      <th></th>\n",
       "    </tr>\n",
       "  </thead>\n",
       "  <tbody>\n",
       "    <tr>\n",
       "      <th>2734969.0</th>\n",
       "      <td>1010950035</td>\n",
       "      <td>NaN</td>\n",
       "      <td>NaN</td>\n",
       "      <td>1027122</td>\n",
       "      <td>653</td>\n",
       "      <td>11 AVENUE</td>\n",
       "      <td>MANHATTAN</td>\n",
       "      <td>10036.0</td>\n",
       "      <td>Yes</td>\n",
       "      <td>In Compliance</td>\n",
       "      <td>...</td>\n",
       "      <td>No</td>\n",
       "      <td>Manual</td>\n",
       "      <td>31</td>\n",
       "      <td>1190.2</td>\n",
       "      <td>345.2</td>\n",
       "      <td>845</td>\n",
       "      <td>153363</td>\n",
       "      <td>153363.0</td>\n",
       "      <td>Hotel</td>\n",
       "      <td>1.0</td>\n",
       "    </tr>\n",
       "    <tr>\n",
       "      <th>2741228.0</th>\n",
       "      <td>1021390017</td>\n",
       "      <td>NaN</td>\n",
       "      <td>NaN</td>\n",
       "      <td>1063400</td>\n",
       "      <td>1050</td>\n",
       "      <td>RIVERSIDE DRIVE</td>\n",
       "      <td>MANHATTAN</td>\n",
       "      <td>10032.0</td>\n",
       "      <td>Yes</td>\n",
       "      <td>In Compliance</td>\n",
       "      <td>...</td>\n",
       "      <td>No</td>\n",
       "      <td>None</td>\n",
       "      <td>20</td>\n",
       "      <td>4573.1</td>\n",
       "      <td>0</td>\n",
       "      <td>4573.1</td>\n",
       "      <td>256013</td>\n",
       "      <td>213214.0</td>\n",
       "      <td>Office</td>\n",
       "      <td>1.0</td>\n",
       "    </tr>\n",
       "    <tr>\n",
       "      <th>3108893.0</th>\n",
       "      <td>1008020056</td>\n",
       "      <td>NaN</td>\n",
       "      <td>NaN</td>\n",
       "      <td>1015051</td>\n",
       "      <td>122</td>\n",
       "      <td>WEST   27 STREET</td>\n",
       "      <td>MANHATTAN</td>\n",
       "      <td>10001.0</td>\n",
       "      <td>Yes</td>\n",
       "      <td>In Compliance</td>\n",
       "      <td>...</td>\n",
       "      <td>No</td>\n",
       "      <td>None</td>\n",
       "      <td>78</td>\n",
       "      <td>698.5</td>\n",
       "      <td>302.6</td>\n",
       "      <td>395.9</td>\n",
       "      <td>117291</td>\n",
       "      <td>117291.0</td>\n",
       "      <td>Office</td>\n",
       "      <td>1.0</td>\n",
       "    </tr>\n",
       "    <tr>\n",
       "      <th>3893138.0</th>\n",
       "      <td>1006970031</td>\n",
       "      <td>NaN</td>\n",
       "      <td>NaN</td>\n",
       "      <td>1012384</td>\n",
       "      <td>259</td>\n",
       "      <td>10 AVENUE</td>\n",
       "      <td>MANHATTAN</td>\n",
       "      <td>10001.0</td>\n",
       "      <td>Yes</td>\n",
       "      <td>In Compliance</td>\n",
       "      <td>...</td>\n",
       "      <td>Yes</td>\n",
       "      <td>Manual</td>\n",
       "      <td>39</td>\n",
       "      <td>1249.9</td>\n",
       "      <td>385.1</td>\n",
       "      <td>864.8</td>\n",
       "      <td>215000</td>\n",
       "      <td>214780.0</td>\n",
       "      <td>K-12 School</td>\n",
       "      <td>1.0</td>\n",
       "    </tr>\n",
       "    <tr>\n",
       "      <th>4495647.0</th>\n",
       "      <td>1001727501</td>\n",
       "      <td>NaN</td>\n",
       "      <td>NaN</td>\n",
       "      <td>1001866</td>\n",
       "      <td>374</td>\n",
       "      <td>BROADWAY</td>\n",
       "      <td>MANHATTAN</td>\n",
       "      <td>10013.0</td>\n",
       "      <td>Yes</td>\n",
       "      <td>In Compliance</td>\n",
       "      <td>...</td>\n",
       "      <td>No</td>\n",
       "      <td>None</td>\n",
       "      <td>79</td>\n",
       "      <td>557.6</td>\n",
       "      <td>390.4</td>\n",
       "      <td>167.2</td>\n",
       "      <td>121689</td>\n",
       "      <td>137500.0</td>\n",
       "      <td>Multifamily Housing</td>\n",
       "      <td>1.0</td>\n",
       "    </tr>\n",
       "  </tbody>\n",
       "</table>\n",
       "<p>5 rows × 25 columns</p>\n",
       "</div>"
      ],
      "text/plain": [
       "               NYC Borough, Block, and Lot (BBL) Co-reported BBL Status  \\\n",
       "Record Number                                                             \n",
       "2734969.0                             1010950035                    NaN   \n",
       "2741228.0                             1021390017                    NaN   \n",
       "3108893.0                             1008020056                    NaN   \n",
       "3893138.0                             1006970031                    NaN   \n",
       "4495647.0                             1001727501                    NaN   \n",
       "\n",
       "              BBLs Co-reported  \\\n",
       "Record Number                    \n",
       "2734969.0                  NaN   \n",
       "2741228.0                  NaN   \n",
       "3108893.0                  NaN   \n",
       "3893138.0                  NaN   \n",
       "4495647.0                  NaN   \n",
       "\n",
       "              Reported NYC Building Identification Numbers (BINs)  \\\n",
       "Record Number                                                       \n",
       "2734969.0                                                1027122    \n",
       "2741228.0                                                1063400    \n",
       "3108893.0                                                1015051    \n",
       "3893138.0                                                1012384    \n",
       "4495647.0                                                1001866    \n",
       "\n",
       "              Street Number           Street Name    Borough  Zip Code  \\\n",
       "Record Number                                                            \n",
       "2734969.0               653    11 AVENUE           MANHATTAN   10036.0   \n",
       "2741228.0              1050  RIVERSIDE DRIVE       MANHATTAN   10032.0   \n",
       "3108893.0               122  WEST   27 STREET      MANHATTAN   10001.0   \n",
       "3893138.0               259    10 AVENUE           MANHATTAN   10001.0   \n",
       "4495647.0               374  BROADWAY              MANHATTAN   10013.0   \n",
       "\n",
       "              BBL on the Covered Buildings List  \\\n",
       "Record Number                                     \n",
       "2734969.0                                   Yes   \n",
       "2741228.0                                   Yes   \n",
       "3108893.0                                   Yes   \n",
       "3893138.0                                   Yes   \n",
       "4495647.0                                   Yes   \n",
       "\n",
       "              DOF Benchmarking Submission Status           ...            \\\n",
       "Record Number                                              ...             \n",
       "2734969.0                         In Compliance            ...             \n",
       "2741228.0                         In Compliance            ...             \n",
       "3108893.0                         In Compliance            ...             \n",
       "3893138.0                         In Compliance            ...             \n",
       "4495647.0                         In Compliance            ...             \n",
       "\n",
       "              Automatic Water Benchmarking Eligible Reported Water Method  \\\n",
       "Record Number                                                               \n",
       "2734969.0                                        No                Manual   \n",
       "2741228.0                                        No                  None   \n",
       "3108893.0                                        No                  None   \n",
       "3893138.0                                       Yes                Manual   \n",
       "4495647.0                                        No                  None   \n",
       "\n",
       "              ENERGY STAR Score Total GHG Emissions(MtCO2e)  \\\n",
       "Record Number                                                 \n",
       "2734969.0                    31                      1190.2   \n",
       "2741228.0                    20                      4573.1   \n",
       "3108893.0                    78                       698.5   \n",
       "3893138.0                    39                      1249.9   \n",
       "4495647.0                    79                       557.6   \n",
       "\n",
       "              Direct GHG Emissions(MtCO2e) Indirect GHG Emissions(MtCO2e)  \\\n",
       "Record Number                                                               \n",
       "2734969.0                            345.2                            845   \n",
       "2741228.0                                0                         4573.1   \n",
       "3108893.0                            302.6                          395.9   \n",
       "3893138.0                            385.1                          864.8   \n",
       "4495647.0                            390.4                          167.2   \n",
       "\n",
       "              Reported Property Floor Area (Building(s)) (ft²)  \\\n",
       "Record Number                                                    \n",
       "2734969.0                                               153363   \n",
       "2741228.0                                               256013   \n",
       "3108893.0                                               117291   \n",
       "3893138.0                                               215000   \n",
       "4495647.0                                               121689   \n",
       "\n",
       "              DOF Property Floor Area (Buildngs and Parking)(ft2)  \\\n",
       "Record Number                                                       \n",
       "2734969.0                                               153363.0    \n",
       "2741228.0                                               213214.0    \n",
       "3108893.0                                               117291.0    \n",
       "3893138.0                                               214780.0    \n",
       "4495647.0                                               137500.0    \n",
       "\n",
       "              Primary Property Type - Self Selected DOF Number of Buildings  \n",
       "Record Number                                                                \n",
       "2734969.0                                     Hotel                     1.0  \n",
       "2741228.0                                    Office                     1.0  \n",
       "3108893.0                                    Office                     1.0  \n",
       "3893138.0                               K-12 School                     1.0  \n",
       "4495647.0                       Multifamily Housing                     1.0  \n",
       "\n",
       "[5 rows x 25 columns]"
      ]
     },
     "execution_count": 16,
     "metadata": {},
     "output_type": "execute_result"
    }
   ],
   "source": [
    "nrg = gp.GeoDataFrame.from_csv('rows.csv?accessType=DOWNLOAD')\n",
    "nrg.head()"
   ]
  },
  {
   "cell_type": "code",
   "execution_count": 5,
   "metadata": {
    "collapsed": true,
    "deletable": true,
    "editable": true
   },
   "outputs": [],
   "source": [
    "#download Bronx pluto data \n",
    "if not os.path.exists('bx'):\n",
    "    os.makedirs('bx') \n",
    "    \n",
    "if not os.path.exists('bx/bx_mappluto_16v2.zip'):\n",
    "    !curl -O 'https://www1.nyc.gov/assets/planning/download/zip/data-maps/open-data/bx_mappluto_16v2.zip'\n",
    "    os.system(\"mv bx_mappluto_16v2.zip bx\")\n",
    "    \n",
    "if not os.path.exists('bx/BXMapPLUTO.shp'):    \n",
    "    zf = zipfile.ZipFile('bx/' + 'bx_mappluto_16v2.zip')\n",
    "    zf.extractall(\"bx\")\n",
    "    zf.close\n",
    "\n"
   ]
  },
  {
   "cell_type": "code",
   "execution_count": 6,
   "metadata": {
    "collapsed": true,
    "deletable": true,
    "editable": true
   },
   "outputs": [],
   "source": [
    "#download Brooklyn pluto data \n",
    "if not os.path.exists('bk'):\n",
    "    os.makedirs('bk') \n",
    "    \n",
    "if not os.path.exists('bk/bk_mappluto_16v2.zip'):\n",
    "    !curl -O 'https://www1.nyc.gov/assets/planning/download/zip/data-maps/open-data/bk_mappluto_16v2.zip'\n",
    "    os.system(\"mv bk_mappluto_16v2.zip bk\")\n",
    "    \n",
    "if not os.path.exists('bk/BKMapPLUTO.shp'):    \n",
    "    zf = zipfile.ZipFile('bk/' + 'bk_mappluto_16v2.zip')\n",
    "    zf.extractall(\"bk\")\n",
    "    zf.close"
   ]
  },
  {
   "cell_type": "code",
   "execution_count": 7,
   "metadata": {
    "collapsed": true,
    "deletable": true,
    "editable": true
   },
   "outputs": [],
   "source": [
    "#download Manhattan pluto data \n",
    "if not os.path.exists('mn'):\n",
    "    os.makedirs('mn') \n",
    "    \n",
    "if not os.path.exists('mn/mn_mappluto_16v2.zip'):\n",
    "    !curl -O 'https://www1.nyc.gov/assets/planning/download/zip/data-maps/open-data/mn_mappluto_16v2.zip'\n",
    "    os.system(\"mv mn_mappluto_16v2.zip mn\")\n",
    "    \n",
    "if not os.path.exists('mn/MNMapPLUTO.shp'):    \n",
    "    zf = zipfile.ZipFile('mn/' + 'mn_mappluto_16v2.zip')\n",
    "    zf.extractall(\"mn\")\n",
    "    zf.close"
   ]
  },
  {
   "cell_type": "code",
   "execution_count": 8,
   "metadata": {
    "collapsed": true,
    "deletable": true,
    "editable": true
   },
   "outputs": [],
   "source": [
    "#download Queens pluto data \n",
    "if not os.path.exists('qn'):\n",
    "    os.makedirs('qn') \n",
    "    \n",
    "if not os.path.exists('qn/qn_mappluto_16v2.zip'):\n",
    "    !curl -O 'https://www1.nyc.gov/assets/planning/download/zip/data-maps/open-data/qn_mappluto_16v2.zip'\n",
    "    os.system(\"mv qn_mappluto_16v2.zip qn\")\n",
    "    \n",
    "if not os.path.exists('qn/BKMapPLUTO.shp'):    \n",
    "    zf = zipfile.ZipFile('qn/' + 'qn_mappluto_16v2.zip')\n",
    "    zf.extractall(\"qn\")\n",
    "    zf.close"
   ]
  },
  {
   "cell_type": "code",
   "execution_count": 9,
   "metadata": {
    "collapsed": true,
    "deletable": true,
    "editable": true
   },
   "outputs": [],
   "source": [
    "#download Staten Island pluto data \n",
    "if not os.path.exists('si'):\n",
    "    os.makedirs('si') \n",
    "    \n",
    "if not os.path.exists('si/si_mappluto_16v2.zip'):\n",
    "    !curl -O 'https://www1.nyc.gov/assets/planning/download/zip/data-maps/open-data/si_mappluto_16v2.zip'\n",
    "    os.system(\"mv si_mappluto_16v2.zip si\")\n",
    "    \n",
    "if not os.path.exists('si/BKMapPLUTO.shp'):    \n",
    "    zf = zipfile.ZipFile('si/' + 'si_mappluto_16v2.zip')\n",
    "    zf.extractall(\"si\")\n",
    "    zf.close"
   ]
  },
  {
   "cell_type": "code",
   "execution_count": 10,
   "metadata": {
    "collapsed": true,
    "deletable": true,
    "editable": true
   },
   "outputs": [],
   "source": [
    "#read in files\n",
    "P_bx = gp.read_file('bx/BXMapPLUTO.shp')\n",
    "P_bk = gp.read_file('bk/BKMapPLUTO.shp')\n",
    "P_mn = gp.read_file('mn/MNMapPLUTO.shp')\n",
    "P_qn = gp.read_file('qn/QNMapPLUTO.shp')\n",
    "P_si = gp.read_file('si/SIMapPLUTO.shp')"
   ]
  },
  {
   "cell_type": "code",
   "execution_count": 17,
   "metadata": {
    "collapsed": false,
    "deletable": true,
    "editable": true
   },
   "outputs": [
    {
     "data": {
      "text/plain": [
       "Index([u'NYC Borough, Block, and Lot (BBL)', u'Co-reported BBL Status',\n",
       "       u'BBLs Co-reported',\n",
       "       u'Reported NYC Building Identification Numbers (BINs)',\n",
       "       u'Street Number', u'Street Name', u'Borough', u'Zip Code',\n",
       "       u'BBL on the Covered Buildings List',\n",
       "       u'DOF Benchmarking Submission Status', u'Site EUI(kBtu/ft2)',\n",
       "       u'Weather Normalized Site EUI(kBtu/ft2)', u'Source EUI(kBtu/ft2)',\n",
       "       u'Weather Normalized Source EUI(kBtu/ft2)',\n",
       "       u'Municipally Supplied Potable Water - Indoor Intensity (gal/ft²)',\n",
       "       u'Automatic Water Benchmarking Eligible', u'Reported Water Method',\n",
       "       u'ENERGY STAR Score', u'Total GHG Emissions(MtCO2e)',\n",
       "       u'Direct GHG Emissions(MtCO2e)', u'Indirect GHG Emissions(MtCO2e)',\n",
       "       u'Reported Property Floor Area (Building(s)) (ft²)',\n",
       "       u'DOF Property Floor Area (Buildngs and Parking)(ft2)',\n",
       "       u'Primary Property Type - Self Selected', u'DOF Number of Buildings'],\n",
       "      dtype='object')"
      ]
     },
     "execution_count": 17,
     "metadata": {},
     "output_type": "execute_result"
    }
   ],
   "source": [
    "nrg.columns"
   ]
  },
  {
   "cell_type": "code",
   "execution_count": 18,
   "metadata": {
    "collapsed": false,
    "deletable": true,
    "editable": true
   },
   "outputs": [
    {
     "name": "stderr",
     "output_type": "stream",
     "text": [
      "/usr/local/lib/python2.7/site-packages/pandas/core/frame.py:2834: SettingWithCopyWarning: \n",
      "A value is trying to be set on a copy of a slice from a DataFrame\n",
      "\n",
      "See the caveats in the documentation: http://pandas.pydata.org/pandas-docs/stable/indexing.html#indexing-view-versus-copy\n",
      "  **kwargs)\n"
     ]
    },
    {
     "data": {
      "text/html": [
       "<div>\n",
       "<table border=\"1\" class=\"dataframe\">\n",
       "  <thead>\n",
       "    <tr style=\"text-align: right;\">\n",
       "      <th></th>\n",
       "      <th>BBL</th>\n",
       "      <th>Site_EUI</th>\n",
       "    </tr>\n",
       "    <tr>\n",
       "      <th>Record Number</th>\n",
       "      <th></th>\n",
       "      <th></th>\n",
       "    </tr>\n",
       "  </thead>\n",
       "  <tbody>\n",
       "    <tr>\n",
       "      <th>2734969.0</th>\n",
       "      <td>1010950035</td>\n",
       "      <td>106.4</td>\n",
       "    </tr>\n",
       "    <tr>\n",
       "      <th>2741228.0</th>\n",
       "      <td>1021390017</td>\n",
       "      <td>246.9</td>\n",
       "    </tr>\n",
       "    <tr>\n",
       "      <th>3108893.0</th>\n",
       "      <td>1008020056</td>\n",
       "      <td>70.1</td>\n",
       "    </tr>\n",
       "    <tr>\n",
       "      <th>3893138.0</th>\n",
       "      <td>1006970031</td>\n",
       "      <td>80.7</td>\n",
       "    </tr>\n",
       "    <tr>\n",
       "      <th>4495647.0</th>\n",
       "      <td>1001727501</td>\n",
       "      <td>74.4</td>\n",
       "    </tr>\n",
       "  </tbody>\n",
       "</table>\n",
       "</div>"
      ],
      "text/plain": [
       "                      BBL Site_EUI\n",
       "Record Number                     \n",
       "2734969.0      1010950035    106.4\n",
       "2741228.0      1021390017    246.9\n",
       "3108893.0      1008020056     70.1\n",
       "3893138.0      1006970031     80.7\n",
       "4495647.0      1001727501     74.4"
      ]
     },
     "execution_count": 18,
     "metadata": {},
     "output_type": "execute_result"
    }
   ],
   "source": [
    "nrg.rename(columns={'NYC Borough, Block, and Lot (BBL)':'BBL'}, \n",
    "           inplace=True)\n",
    "nrg_1 = nrg[['BBL', 'Weather Normalized Site EUI(kBtu/ft2)']]\n",
    "nrg_1.rename(columns={'Weather Normalized Site EUI(kBtu/ft2)':'Site_EUI'}, \n",
    "           inplace=True)\n",
    "nrg_1.head()\n"
   ]
  },
  {
   "cell_type": "code",
   "execution_count": 54,
   "metadata": {
    "collapsed": false,
    "deletable": true,
    "editable": true
   },
   "outputs": [
    {
     "data": {
      "text/html": [
       "<div>\n",
       "<table border=\"1\" class=\"dataframe\">\n",
       "  <thead>\n",
       "    <tr style=\"text-align: right;\">\n",
       "      <th></th>\n",
       "      <th>APPBBL</th>\n",
       "      <th>APPDate</th>\n",
       "      <th>Address</th>\n",
       "      <th>AreaSource</th>\n",
       "      <th>AssessLand</th>\n",
       "      <th>AssessTot</th>\n",
       "      <th>BBL</th>\n",
       "      <th>BldgArea</th>\n",
       "      <th>BldgClass</th>\n",
       "      <th>BldgDepth</th>\n",
       "      <th>...</th>\n",
       "      <th>YearAlter2</th>\n",
       "      <th>YearBuilt</th>\n",
       "      <th>ZMCode</th>\n",
       "      <th>ZipCode</th>\n",
       "      <th>ZoneDist1</th>\n",
       "      <th>ZoneDist2</th>\n",
       "      <th>ZoneDist3</th>\n",
       "      <th>ZoneDist4</th>\n",
       "      <th>ZoneMap</th>\n",
       "      <th>geometry</th>\n",
       "    </tr>\n",
       "  </thead>\n",
       "  <tbody>\n",
       "    <tr>\n",
       "      <th>0</th>\n",
       "      <td>0.0</td>\n",
       "      <td>None</td>\n",
       "      <td>270 EAST 137 STREET</td>\n",
       "      <td>2</td>\n",
       "      <td>138600.0</td>\n",
       "      <td>831150.0</td>\n",
       "      <td>2.023180e+09</td>\n",
       "      <td>11700</td>\n",
       "      <td>K7</td>\n",
       "      <td>100.0</td>\n",
       "      <td>...</td>\n",
       "      <td>0</td>\n",
       "      <td>1911</td>\n",
       "      <td>None</td>\n",
       "      <td>10454</td>\n",
       "      <td>M1-4/R7A</td>\n",
       "      <td>None</td>\n",
       "      <td>None</td>\n",
       "      <td>None</td>\n",
       "      <td>6a</td>\n",
       "      <td>POLYGON ((1004162.726199999 234386.1791999936,...</td>\n",
       "    </tr>\n",
       "    <tr>\n",
       "      <th>1</th>\n",
       "      <td>0.0</td>\n",
       "      <td>None</td>\n",
       "      <td>69 BRUCKNER BOULEVARD</td>\n",
       "      <td>2</td>\n",
       "      <td>24211.0</td>\n",
       "      <td>35042.0</td>\n",
       "      <td>2.022960e+09</td>\n",
       "      <td>5120</td>\n",
       "      <td>S3</td>\n",
       "      <td>64.0</td>\n",
       "      <td>...</td>\n",
       "      <td>0</td>\n",
       "      <td>1915</td>\n",
       "      <td>None</td>\n",
       "      <td>10454</td>\n",
       "      <td>M1-2/R6A</td>\n",
       "      <td>None</td>\n",
       "      <td>None</td>\n",
       "      <td>None</td>\n",
       "      <td>6a</td>\n",
       "      <td>POLYGON ((1004680.847200006 233094.8020000011,...</td>\n",
       "    </tr>\n",
       "    <tr>\n",
       "      <th>2</th>\n",
       "      <td>0.0</td>\n",
       "      <td>None</td>\n",
       "      <td>348 EAST 134 STREET</td>\n",
       "      <td>2</td>\n",
       "      <td>18000.0</td>\n",
       "      <td>188100.0</td>\n",
       "      <td>2.022960e+09</td>\n",
       "      <td>4875</td>\n",
       "      <td>E9</td>\n",
       "      <td>85.0</td>\n",
       "      <td>...</td>\n",
       "      <td>0</td>\n",
       "      <td>2008</td>\n",
       "      <td>None</td>\n",
       "      <td>10454</td>\n",
       "      <td>M1-2/R6A</td>\n",
       "      <td>None</td>\n",
       "      <td>None</td>\n",
       "      <td>None</td>\n",
       "      <td>6a</td>\n",
       "      <td>POLYGON ((1004668.343999997 233334.0714000016,...</td>\n",
       "    </tr>\n",
       "    <tr>\n",
       "      <th>3</th>\n",
       "      <td>0.0</td>\n",
       "      <td>None</td>\n",
       "      <td>51 BRUCKNER BOULEVARD</td>\n",
       "      <td>2</td>\n",
       "      <td>10203.0</td>\n",
       "      <td>13989.0</td>\n",
       "      <td>2.022960e+09</td>\n",
       "      <td>5120</td>\n",
       "      <td>S4</td>\n",
       "      <td>64.0</td>\n",
       "      <td>...</td>\n",
       "      <td>0</td>\n",
       "      <td>1915</td>\n",
       "      <td>None</td>\n",
       "      <td>10454</td>\n",
       "      <td>M1-2/R6A</td>\n",
       "      <td>None</td>\n",
       "      <td>None</td>\n",
       "      <td>None</td>\n",
       "      <td>6a</td>\n",
       "      <td>POLYGON ((1004571.2324 233271.8015999943, 1004...</td>\n",
       "    </tr>\n",
       "    <tr>\n",
       "      <th>4</th>\n",
       "      <td>0.0</td>\n",
       "      <td>None</td>\n",
       "      <td>2441 3 AVENUE</td>\n",
       "      <td>2</td>\n",
       "      <td>315450.0</td>\n",
       "      <td>1294650.0</td>\n",
       "      <td>2.023190e+09</td>\n",
       "      <td>83936</td>\n",
       "      <td>D9</td>\n",
       "      <td>135.0</td>\n",
       "      <td>...</td>\n",
       "      <td>0</td>\n",
       "      <td>1917</td>\n",
       "      <td>None</td>\n",
       "      <td>10451</td>\n",
       "      <td>M1-3/R8</td>\n",
       "      <td>None</td>\n",
       "      <td>None</td>\n",
       "      <td>None</td>\n",
       "      <td>6a</td>\n",
       "      <td>POLYGON ((1003446.053599998 234160.9472000003,...</td>\n",
       "    </tr>\n",
       "  </tbody>\n",
       "</table>\n",
       "<p>5 rows × 88 columns</p>\n",
       "</div>"
      ],
      "text/plain": [
       "   APPBBL APPDate                Address AreaSource  AssessLand  AssessTot  \\\n",
       "0     0.0    None    270 EAST 137 STREET          2    138600.0   831150.0   \n",
       "1     0.0    None  69 BRUCKNER BOULEVARD          2     24211.0    35042.0   \n",
       "2     0.0    None    348 EAST 134 STREET          2     18000.0   188100.0   \n",
       "3     0.0    None  51 BRUCKNER BOULEVARD          2     10203.0    13989.0   \n",
       "4     0.0    None          2441 3 AVENUE          2    315450.0  1294650.0   \n",
       "\n",
       "            BBL  BldgArea BldgClass  BldgDepth  \\\n",
       "0  2.023180e+09     11700        K7      100.0   \n",
       "1  2.022960e+09      5120        S3       64.0   \n",
       "2  2.022960e+09      4875        E9       85.0   \n",
       "3  2.022960e+09      5120        S4       64.0   \n",
       "4  2.023190e+09     83936        D9      135.0   \n",
       "\n",
       "                         ...                          YearAlter2  YearBuilt  \\\n",
       "0                        ...                                   0       1911   \n",
       "1                        ...                                   0       1915   \n",
       "2                        ...                                   0       2008   \n",
       "3                        ...                                   0       1915   \n",
       "4                        ...                                   0       1917   \n",
       "\n",
       "   ZMCode ZipCode ZoneDist1  ZoneDist2 ZoneDist3  ZoneDist4 ZoneMap  \\\n",
       "0    None   10454  M1-4/R7A       None      None       None      6a   \n",
       "1    None   10454  M1-2/R6A       None      None       None      6a   \n",
       "2    None   10454  M1-2/R6A       None      None       None      6a   \n",
       "3    None   10454  M1-2/R6A       None      None       None      6a   \n",
       "4    None   10451   M1-3/R8       None      None       None      6a   \n",
       "\n",
       "                                            geometry  \n",
       "0  POLYGON ((1004162.726199999 234386.1791999936,...  \n",
       "1  POLYGON ((1004680.847200006 233094.8020000011,...  \n",
       "2  POLYGON ((1004668.343999997 233334.0714000016,...  \n",
       "3  POLYGON ((1004571.2324 233271.8015999943, 1004...  \n",
       "4  POLYGON ((1003446.053599998 234160.9472000003,...  \n",
       "\n",
       "[5 rows x 88 columns]"
      ]
     },
     "execution_count": 54,
     "metadata": {},
     "output_type": "execute_result"
    }
   ],
   "source": [
    "P_bx.crs = from_epsg(4326) \n",
    "P_bx.head()"
   ]
  },
  {
   "cell_type": "code",
   "execution_count": 19,
   "metadata": {
    "collapsed": true,
    "deletable": true,
    "editable": true
   },
   "outputs": [],
   "source": [
    "C_bx = P_bx[['BBL', 'ZipCode', 'geometry']]\n",
    "C_bk = P_bk[['BBL', 'ZipCode', 'geometry']]\n",
    "C_mn = P_mn[['BBL', 'ZipCode', 'geometry']]\n",
    "C_qn = P_qn[['BBL', 'ZipCode', 'geometry']]\n",
    "C_si = P_si[['BBL', 'ZipCode', 'geometry']]"
   ]
  },
  {
   "cell_type": "code",
   "execution_count": 20,
   "metadata": {
    "collapsed": true,
    "deletable": true,
    "editable": true
   },
   "outputs": [],
   "source": [
    "Char_b = C_bx.append(C_bk)\n",
    "Char_b = Char_b.append(C_mn)\n",
    "Char_b = Char_b.append(C_qn)\n",
    "Char_b = Char_b.append(C_si)"
   ]
  },
  {
   "cell_type": "code",
   "execution_count": 58,
   "metadata": {
    "collapsed": false,
    "deletable": true,
    "editable": true
   },
   "outputs": [],
   "source": [
    "bblnrgdata = Char_b.merge(nrg_1, on='BBL')"
   ]
  },
  {
   "cell_type": "code",
   "execution_count": 66,
   "metadata": {
    "collapsed": false,
    "deletable": true,
    "editable": true
   },
   "outputs": [
    {
     "data": {
      "text/plain": [
       "13737"
      ]
     },
     "execution_count": 66,
     "metadata": {},
     "output_type": "execute_result"
    }
   ],
   "source": [
    "len(bblnrgdata)"
   ]
  },
  {
   "cell_type": "code",
   "execution_count": 65,
   "metadata": {
    "collapsed": false,
    "deletable": true,
    "editable": true
   },
   "outputs": [
    {
     "data": {
      "text/html": [
       "<div>\n",
       "<table border=\"1\" class=\"dataframe\">\n",
       "  <thead>\n",
       "    <tr style=\"text-align: right;\">\n",
       "      <th></th>\n",
       "      <th>BBL</th>\n",
       "      <th>ZipCode</th>\n",
       "      <th>geometry</th>\n",
       "      <th>Site_EUI</th>\n",
       "    </tr>\n",
       "  </thead>\n",
       "  <tbody>\n",
       "    <tr>\n",
       "      <th>0</th>\n",
       "      <td>2.023190e+09</td>\n",
       "      <td>10451</td>\n",
       "      <td>POLYGON ((1003389.165600002 234484.7893999964,...</td>\n",
       "      <td>11.6</td>\n",
       "    </tr>\n",
       "    <tr>\n",
       "      <th>1</th>\n",
       "      <td>2.023110e+09</td>\n",
       "      <td>10454</td>\n",
       "      <td>POLYGON ((1004905.556400001 234392.8328000009,...</td>\n",
       "      <td>See Primary BBL</td>\n",
       "    </tr>\n",
       "    <tr>\n",
       "      <th>2</th>\n",
       "      <td>2.023080e+09</td>\n",
       "      <td>10454</td>\n",
       "      <td>POLYGON ((1004079.848199993 233318.4047999978,...</td>\n",
       "      <td>NaN</td>\n",
       "    </tr>\n",
       "    <tr>\n",
       "      <th>3</th>\n",
       "      <td>2.023160e+09</td>\n",
       "      <td>10454</td>\n",
       "      <td>POLYGON ((1003301.432799995 233415.831400007, ...</td>\n",
       "      <td>NaN</td>\n",
       "    </tr>\n",
       "    <tr>\n",
       "      <th>4</th>\n",
       "      <td>2.023190e+09</td>\n",
       "      <td>10451</td>\n",
       "      <td>POLYGON ((1003369.369200006 233849.1661999971,...</td>\n",
       "      <td>NaN</td>\n",
       "    </tr>\n",
       "  </tbody>\n",
       "</table>\n",
       "</div>"
      ],
      "text/plain": [
       "            BBL  ZipCode                                           geometry  \\\n",
       "0  2.023190e+09    10451  POLYGON ((1003389.165600002 234484.7893999964,...   \n",
       "1  2.023110e+09    10454  POLYGON ((1004905.556400001 234392.8328000009,...   \n",
       "2  2.023080e+09    10454  POLYGON ((1004079.848199993 233318.4047999978,...   \n",
       "3  2.023160e+09    10454  POLYGON ((1003301.432799995 233415.831400007, ...   \n",
       "4  2.023190e+09    10451  POLYGON ((1003369.369200006 233849.1661999971,...   \n",
       "\n",
       "          Site_EUI  \n",
       "0             11.6  \n",
       "1  See Primary BBL  \n",
       "2              NaN  \n",
       "3              NaN  \n",
       "4              NaN  "
      ]
     },
     "execution_count": 65,
     "metadata": {},
     "output_type": "execute_result"
    }
   ],
   "source": [
    "bblnrgdata.head()"
   ]
  },
  {
   "cell_type": "code",
   "execution_count": 31,
   "metadata": {
    "collapsed": true,
    "deletable": true,
    "editable": true
   },
   "outputs": [],
   "source": [
    "import shapely\n",
    "from geopandas import GeoDataFrame\n",
    "import matplotlib.pylab as pl\n",
    "from fiona.crs import from_epsg"
   ]
  },
  {
   "cell_type": "code",
   "execution_count": 39,
   "metadata": {
    "collapsed": false,
    "deletable": true,
    "editable": true
   },
   "outputs": [
    {
     "data": {
      "text/html": [
       "<div>\n",
       "<table border=\"1\" class=\"dataframe\">\n",
       "  <thead>\n",
       "    <tr style=\"text-align: right;\">\n",
       "      <th></th>\n",
       "      <th>lon</th>\n",
       "      <th>lat</th>\n",
       "      <th>Day Temperature</th>\n",
       "      <th>Night temperature</th>\n",
       "    </tr>\n",
       "  </thead>\n",
       "  <tbody>\n",
       "    <tr>\n",
       "      <th>0</th>\n",
       "      <td>-74.500000</td>\n",
       "      <td>40.73</td>\n",
       "      <td>25.614070</td>\n",
       "      <td>16.664333</td>\n",
       "    </tr>\n",
       "    <tr>\n",
       "      <th>1</th>\n",
       "      <td>-74.492308</td>\n",
       "      <td>40.73</td>\n",
       "      <td>25.348052</td>\n",
       "      <td>16.648848</td>\n",
       "    </tr>\n",
       "    <tr>\n",
       "      <th>2</th>\n",
       "      <td>-74.484615</td>\n",
       "      <td>40.73</td>\n",
       "      <td>24.873467</td>\n",
       "      <td>16.492773</td>\n",
       "    </tr>\n",
       "    <tr>\n",
       "      <th>3</th>\n",
       "      <td>-74.476923</td>\n",
       "      <td>40.73</td>\n",
       "      <td>24.397762</td>\n",
       "      <td>16.065568</td>\n",
       "    </tr>\n",
       "    <tr>\n",
       "      <th>4</th>\n",
       "      <td>-74.469231</td>\n",
       "      <td>40.73</td>\n",
       "      <td>24.306395</td>\n",
       "      <td>15.685205</td>\n",
       "    </tr>\n",
       "  </tbody>\n",
       "</table>\n",
       "</div>"
      ],
      "text/plain": [
       "         lon    lat  Day Temperature  Night temperature\n",
       "0 -74.500000  40.73        25.614070          16.664333\n",
       "1 -74.492308  40.73        25.348052          16.648848\n",
       "2 -74.484615  40.73        24.873467          16.492773\n",
       "3 -74.476923  40.73        24.397762          16.065568\n",
       "4 -74.469231  40.73        24.306395          15.685205"
      ]
     },
     "execution_count": 39,
     "metadata": {},
     "output_type": "execute_result"
    }
   ],
   "source": [
    "temp = pd.DataFrame.from_csv('a_2014 Summer.csv',index_col=None)\n",
    "temp.head()"
   ]
  },
  {
   "cell_type": "code",
   "execution_count": 40,
   "metadata": {
    "collapsed": false,
    "deletable": true,
    "editable": true
   },
   "outputs": [
    {
     "data": {
      "text/html": [
       "<div>\n",
       "<table border=\"1\" class=\"dataframe\">\n",
       "  <thead>\n",
       "    <tr style=\"text-align: right;\">\n",
       "      <th></th>\n",
       "      <th>lon</th>\n",
       "      <th>lat</th>\n",
       "      <th>Day Temperature</th>\n",
       "      <th>Night temperature</th>\n",
       "      <th>lonlat</th>\n",
       "      <th>geometry</th>\n",
       "    </tr>\n",
       "  </thead>\n",
       "  <tbody>\n",
       "    <tr>\n",
       "      <th>0</th>\n",
       "      <td>-74.500000</td>\n",
       "      <td>40.73</td>\n",
       "      <td>25.614070</td>\n",
       "      <td>16.664333</td>\n",
       "      <td>(-74.5, 40.73)</td>\n",
       "      <td>POINT (-74.5 40.73)</td>\n",
       "    </tr>\n",
       "    <tr>\n",
       "      <th>1</th>\n",
       "      <td>-74.492308</td>\n",
       "      <td>40.73</td>\n",
       "      <td>25.348052</td>\n",
       "      <td>16.648848</td>\n",
       "      <td>(-74.49230769, 40.73)</td>\n",
       "      <td>POINT (-74.49230769 40.73)</td>\n",
       "    </tr>\n",
       "    <tr>\n",
       "      <th>2</th>\n",
       "      <td>-74.484615</td>\n",
       "      <td>40.73</td>\n",
       "      <td>24.873467</td>\n",
       "      <td>16.492773</td>\n",
       "      <td>(-74.48461538, 40.73)</td>\n",
       "      <td>POINT (-74.48461537999999 40.73)</td>\n",
       "    </tr>\n",
       "    <tr>\n",
       "      <th>3</th>\n",
       "      <td>-74.476923</td>\n",
       "      <td>40.73</td>\n",
       "      <td>24.397762</td>\n",
       "      <td>16.065568</td>\n",
       "      <td>(-74.47692308, 40.73)</td>\n",
       "      <td>POINT (-74.47692308000001 40.73)</td>\n",
       "    </tr>\n",
       "    <tr>\n",
       "      <th>4</th>\n",
       "      <td>-74.469231</td>\n",
       "      <td>40.73</td>\n",
       "      <td>24.306395</td>\n",
       "      <td>15.685205</td>\n",
       "      <td>(-74.46923077, 40.73)</td>\n",
       "      <td>POINT (-74.46923077 40.73)</td>\n",
       "    </tr>\n",
       "  </tbody>\n",
       "</table>\n",
       "</div>"
      ],
      "text/plain": [
       "         lon    lat  Day Temperature  Night temperature  \\\n",
       "0 -74.500000  40.73        25.614070          16.664333   \n",
       "1 -74.492308  40.73        25.348052          16.648848   \n",
       "2 -74.484615  40.73        24.873467          16.492773   \n",
       "3 -74.476923  40.73        24.397762          16.065568   \n",
       "4 -74.469231  40.73        24.306395          15.685205   \n",
       "\n",
       "                  lonlat                          geometry  \n",
       "0         (-74.5, 40.73)               POINT (-74.5 40.73)  \n",
       "1  (-74.49230769, 40.73)        POINT (-74.49230769 40.73)  \n",
       "2  (-74.48461538, 40.73)  POINT (-74.48461537999999 40.73)  \n",
       "3  (-74.47692308, 40.73)  POINT (-74.47692308000001 40.73)  \n",
       "4  (-74.46923077, 40.73)        POINT (-74.46923077 40.73)  "
      ]
     },
     "execution_count": 40,
     "metadata": {},
     "output_type": "execute_result"
    }
   ],
   "source": [
    "temp['lonlat'] = zip(temp.lon, temp.lat)\n",
    "# Create Point Geometry for based on lonlat column\n",
    "temp['geometry'] = temp[['lonlat']].applymap(lambda x:shapely.geometry.Point(x))\n",
    "temp.head()"
   ]
  },
  {
   "cell_type": "code",
   "execution_count": 97,
   "metadata": {
    "collapsed": true,
    "deletable": true,
    "editable": true
   },
   "outputs": [],
   "source": [
    "bblnrgdata.crs = from_epsg(2263)\n",
    "bblnrgdata = bblnrgdata.to_crs(epsg = 4326)"
   ]
  },
  {
   "cell_type": "code",
   "execution_count": 170,
   "metadata": {
    "collapsed": false,
    "deletable": true,
    "editable": true
   },
   "outputs": [
    {
     "data": {
      "text/html": [
       "<div>\n",
       "<table border=\"1\" class=\"dataframe\">\n",
       "  <thead>\n",
       "    <tr style=\"text-align: right;\">\n",
       "      <th></th>\n",
       "      <th>BBL</th>\n",
       "      <th>ZipCode</th>\n",
       "      <th>geometry</th>\n",
       "      <th>Site_EUI</th>\n",
       "    </tr>\n",
       "  </thead>\n",
       "  <tbody>\n",
       "    <tr>\n",
       "      <th>0</th>\n",
       "      <td>2.023190e+09</td>\n",
       "      <td>10451</td>\n",
       "      <td>POLYGON ((-73.93086116103255 40.81026162343134...</td>\n",
       "      <td>11.6</td>\n",
       "    </tr>\n",
       "    <tr>\n",
       "      <th>1</th>\n",
       "      <td>2.023110e+09</td>\n",
       "      <td>10454</td>\n",
       "      <td>POLYGON ((-73.92538359544568 40.8100058129941,...</td>\n",
       "      <td>See Primary BBL</td>\n",
       "    </tr>\n",
       "    <tr>\n",
       "      <th>2</th>\n",
       "      <td>2.023080e+09</td>\n",
       "      <td>10454</td>\n",
       "      <td>POLYGON ((-73.9283695671045 40.80705869843541,...</td>\n",
       "      <td>NaN</td>\n",
       "    </tr>\n",
       "    <tr>\n",
       "      <th>3</th>\n",
       "      <td>2.023160e+09</td>\n",
       "      <td>10454</td>\n",
       "      <td>POLYGON ((-73.9311811229686 40.80732782026655,...</td>\n",
       "      <td>NaN</td>\n",
       "    </tr>\n",
       "    <tr>\n",
       "      <th>4</th>\n",
       "      <td>2.023190e+09</td>\n",
       "      <td>10451</td>\n",
       "      <td>POLYGON ((-73.93093448443263 40.80851705733697...</td>\n",
       "      <td>NaN</td>\n",
       "    </tr>\n",
       "  </tbody>\n",
       "</table>\n",
       "</div>"
      ],
      "text/plain": [
       "            BBL  ZipCode                                           geometry  \\\n",
       "0  2.023190e+09    10451  POLYGON ((-73.93086116103255 40.81026162343134...   \n",
       "1  2.023110e+09    10454  POLYGON ((-73.92538359544568 40.8100058129941,...   \n",
       "2  2.023080e+09    10454  POLYGON ((-73.9283695671045 40.80705869843541,...   \n",
       "3  2.023160e+09    10454  POLYGON ((-73.9311811229686 40.80732782026655,...   \n",
       "4  2.023190e+09    10451  POLYGON ((-73.93093448443263 40.80851705733697...   \n",
       "\n",
       "          Site_EUI  \n",
       "0             11.6  \n",
       "1  See Primary BBL  \n",
       "2              NaN  \n",
       "3              NaN  \n",
       "4              NaN  "
      ]
     },
     "execution_count": 170,
     "metadata": {},
     "output_type": "execute_result"
    }
   ],
   "source": [
    "bblnrgdata.head()"
   ]
  },
  {
   "cell_type": "code",
   "execution_count": 169,
   "metadata": {
    "collapsed": false,
    "deletable": true,
    "editable": true
   },
   "outputs": [
    {
     "name": "stdout",
     "output_type": "stream",
     "text": [
      "% 99.2               32.3               60.0                      100.\n"
     ]
    }
   ],
   "source": [
    "a=[]\n",
    "# check for each citibike stations to see what CT they are belong to\n",
    "for i in range(len(temp)):\n",
    "    if len(bblnrgdata.geometry.intersects(temp.iloc[i].geometry).unique()) > 1:\n",
    "        a.append(bblnrgdata[bblnrgdata.geometry.intersects(temp.iloc[i].geometry)].Site_EUI.values[0])\n",
    "    else:\n",
    "        a.append('0')\n",
    "    print '\\r',\"%\",str((i+1)*100./len(temp))[:4],\n",
    "temp['Site_EUI'] = a"
   ]
  },
  {
   "cell_type": "code",
   "execution_count": 174,
   "metadata": {
    "collapsed": false,
    "deletable": true,
    "editable": true,
    "scrolled": true
   },
   "outputs": [
    {
     "data": {
      "text/html": [
       "<div>\n",
       "<table border=\"1\" class=\"dataframe\">\n",
       "  <thead>\n",
       "    <tr style=\"text-align: right;\">\n",
       "      <th></th>\n",
       "      <th>lon</th>\n",
       "      <th>lat</th>\n",
       "      <th>Day Temperature</th>\n",
       "      <th>Night temperature</th>\n",
       "      <th>lonlat</th>\n",
       "      <th>geometry</th>\n",
       "      <th>Site_EUI</th>\n",
       "    </tr>\n",
       "  </thead>\n",
       "  <tbody>\n",
       "    <tr>\n",
       "      <th>64</th>\n",
       "      <td>-74.007692</td>\n",
       "      <td>40.73</td>\n",
       "      <td>27.876376</td>\n",
       "      <td>21.689352</td>\n",
       "      <td>(-74.00769231, 40.73)</td>\n",
       "      <td>POINT (-74.00769231 40.73)</td>\n",
       "      <td>130.4</td>\n",
       "    </tr>\n",
       "    <tr>\n",
       "      <th>65</th>\n",
       "      <td>-74.000000</td>\n",
       "      <td>40.73</td>\n",
       "      <td>27.399282</td>\n",
       "      <td>21.715969</td>\n",
       "      <td>(-74.0, 40.73)</td>\n",
       "      <td>POINT (-74 40.73)</td>\n",
       "      <td>79.4</td>\n",
       "    </tr>\n",
       "    <tr>\n",
       "      <th>68</th>\n",
       "      <td>-73.976923</td>\n",
       "      <td>40.73</td>\n",
       "      <td>28.318550</td>\n",
       "      <td>21.485411</td>\n",
       "      <td>(-73.97692308, 40.73)</td>\n",
       "      <td>POINT (-73.97692308000001 40.73)</td>\n",
       "      <td>57.3</td>\n",
       "    </tr>\n",
       "    <tr>\n",
       "      <th>90</th>\n",
       "      <td>-73.807692</td>\n",
       "      <td>40.73</td>\n",
       "      <td>31.097841</td>\n",
       "      <td>19.116153</td>\n",
       "      <td>(-73.80769231, 40.73)</td>\n",
       "      <td>POINT (-73.80769230999999 40.73)</td>\n",
       "      <td>Not Available</td>\n",
       "    </tr>\n",
       "  </tbody>\n",
       "</table>\n",
       "</div>"
      ],
      "text/plain": [
       "          lon    lat  Day Temperature  Night temperature  \\\n",
       "64 -74.007692  40.73        27.876376          21.689352   \n",
       "65 -74.000000  40.73        27.399282          21.715969   \n",
       "68 -73.976923  40.73        28.318550          21.485411   \n",
       "90 -73.807692  40.73        31.097841          19.116153   \n",
       "\n",
       "                   lonlat                          geometry       Site_EUI  \n",
       "64  (-74.00769231, 40.73)        POINT (-74.00769231 40.73)          130.4  \n",
       "65         (-74.0, 40.73)                 POINT (-74 40.73)           79.4  \n",
       "68  (-73.97692308, 40.73)  POINT (-73.97692308000001 40.73)           57.3  \n",
       "90  (-73.80769231, 40.73)  POINT (-73.80769230999999 40.73)  Not Available  "
      ]
     },
     "execution_count": 174,
     "metadata": {},
     "output_type": "execute_result"
    }
   ],
   "source": [
    "temp[temp.Site_EUI != '0']"
   ]
  },
  {
   "cell_type": "code",
   "execution_count": 179,
   "metadata": {
    "collapsed": false,
    "deletable": true,
    "editable": true
   },
   "outputs": [],
   "source": [
    "bblnrgdata['Site_EUI'] = pd.to_numeric(bblnrgdata['Site_EUI'], errors = 'coerce')\n",
    "bblnrgdata_1 = bblnrgdata[bblnrgdata.Site_EUI > 0]"
   ]
  },
  {
   "cell_type": "code",
   "execution_count": 182,
   "metadata": {
    "collapsed": false,
    "deletable": true,
    "editable": true
   },
   "outputs": [
    {
     "data": {
      "text/plain": [
       "<matplotlib.axes._subplots.AxesSubplot at 0x23b2a64d0>"
      ]
     },
     "execution_count": 182,
     "metadata": {},
     "output_type": "execute_result"
    },
    {
     "data": {
      "image/png": "[encoded data removed]",
      "text/plain": [
       "<matplotlib.figure.Figure at 0x2383c39d0>"
      ]
     },
     "metadata": {},
     "output_type": "display_data"
    }
   ],
   "source": [
    "f, ax = plt.subplots(figsize=(10,10))\n",
    "bblnrgdata_1.plot(column = 'Site_EUI',colormap ='viridis' ,alpha = 1,scheme = 'quantiles', linewidth = 0.5, ax = ax)"
   ]
  },
  {
   "cell_type": "code",
   "execution_count": null,
   "metadata": {
    "collapsed": true,
    "deletable": true,
    "editable": true
   },
   "outputs": [],
   "source": []
  }
 ],
 "metadata": {
  "kernelspec": {
   "display_name": "Python 2",
   "language": "python",
   "name": "python2"
  },
  "language_info": {
   "codemirror_mode": {
    "name": "ipython",
    "version": 2
   },
   "file_extension": ".py",
   "mimetype": "text/x-python",
   "name": "python",
   "nbconvert_exporter": "python",
   "pygments_lexer": "ipython2",
   "version": "2.7.13"
  }
 },
 "nbformat": 4,
 "nbformat_minor": 2
}
